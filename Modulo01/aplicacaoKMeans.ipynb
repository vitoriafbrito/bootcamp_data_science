{
 "cells": [
  {
   "cell_type": "markdown",
   "metadata": {},
   "source": [
    "# **Bootcamp Cientista de Dados**\n",
    "### Aplicação do algoritmo K-Means\n",
    "\n",
    "O K-Means é um algoritmo de machine learning não supervisionado. Localizado na biblioteca Scikit-learn, é um algoritmo de clusterização de dados muito usado para: \n",
    "+ Agrupamento de clientes/usuários similares.\n",
    "+ Segmentação de mercado.\n",
    "+ Agrupamento de produtos semelhantes.\n",
    "+ Agrupamento de usuários em redes sociais.\n",
    "+ Agrupamento de notícias, documentos.\n",
    "+ Agrupamento de pacientes para identificar situações de risco."
   ]
  },
  {
   "cell_type": "code",
   "execution_count": 2,
   "metadata": {
    "id": "9vvpgozjbycW"
   },
   "outputs": [],
   "source": [
    "# importando as bibliotecas necessárias\n",
    "import pandas as pd\n",
    "import numpy as np\n",
    "from matplotlib import pyplot as plt\n",
    "import plotly as py\n",
    "import plotly.graph_objs as go\n",
    "from sklearn.datasets import make_blobs\n",
    "from sklearn.cluster import KMeans"
   ]
  },
  {
   "cell_type": "code",
   "execution_count": 3,
   "metadata": {
    "id": "LbutbvK7b5hx",
    "scrolled": true
   },
   "outputs": [
    {
     "data": {
      "text/html": [
       "<div>\n",
       "<style scoped>\n",
       "    .dataframe tbody tr th:only-of-type {\n",
       "        vertical-align: middle;\n",
       "    }\n",
       "\n",
       "    .dataframe tbody tr th {\n",
       "        vertical-align: top;\n",
       "    }\n",
       "\n",
       "    .dataframe thead th {\n",
       "        text-align: right;\n",
       "    }\n",
       "</style>\n",
       "<table border=\"1\" class=\"dataframe\">\n",
       "  <thead>\n",
       "    <tr style=\"text-align: right;\">\n",
       "      <th></th>\n",
       "      <th>Cod</th>\n",
       "      <th>Sexo</th>\n",
       "      <th>Idade</th>\n",
       "      <th>Salario Anual (milhares)</th>\n",
       "      <th>Score Gastos (0-100)</th>\n",
       "    </tr>\n",
       "  </thead>\n",
       "  <tbody>\n",
       "    <tr>\n",
       "      <th>0</th>\n",
       "      <td>1</td>\n",
       "      <td>Masculino</td>\n",
       "      <td>19</td>\n",
       "      <td>17</td>\n",
       "      <td>39</td>\n",
       "    </tr>\n",
       "    <tr>\n",
       "      <th>1</th>\n",
       "      <td>2</td>\n",
       "      <td>Masculino</td>\n",
       "      <td>21</td>\n",
       "      <td>17</td>\n",
       "      <td>81</td>\n",
       "    </tr>\n",
       "    <tr>\n",
       "      <th>2</th>\n",
       "      <td>3</td>\n",
       "      <td>Feminino</td>\n",
       "      <td>20</td>\n",
       "      <td>19</td>\n",
       "      <td>6</td>\n",
       "    </tr>\n",
       "    <tr>\n",
       "      <th>3</th>\n",
       "      <td>4</td>\n",
       "      <td>Feminino</td>\n",
       "      <td>23</td>\n",
       "      <td>19</td>\n",
       "      <td>77</td>\n",
       "    </tr>\n",
       "    <tr>\n",
       "      <th>4</th>\n",
       "      <td>5</td>\n",
       "      <td>Feminino</td>\n",
       "      <td>31</td>\n",
       "      <td>20</td>\n",
       "      <td>40</td>\n",
       "    </tr>\n",
       "  </tbody>\n",
       "</table>\n",
       "</div>"
      ],
      "text/plain": [
       "   Cod       Sexo  Idade  Salario Anual (milhares)  Score Gastos (0-100)\n",
       "0    1  Masculino     19                        17                    39\n",
       "1    2  Masculino     21                        17                    81\n",
       "2    3   Feminino     20                        19                     6\n",
       "3    4   Feminino     23                        19                    77\n",
       "4    5   Feminino     31                        20                    40"
      ]
     },
     "execution_count": 3,
     "metadata": {},
     "output_type": "execute_result"
    }
   ],
   "source": [
    "# pegando a base de dados 'Consumo.csv'\n",
    "df = pd.read_csv('Consumo.csv', sep=',', encoding='1252')\n",
    "df.head()"
   ]
  },
  {
   "cell_type": "code",
   "execution_count": 21,
   "metadata": {
    "scrolled": false
   },
   "outputs": [
    {
     "data": {
      "text/plain": [
       "Cod                         0\n",
       "Sexo                        0\n",
       "Idade                       0\n",
       "Salario Anual (milhares)    0\n",
       "Score Gastos (0-100)        0\n",
       "dtype: int64"
      ]
     },
     "execution_count": 21,
     "metadata": {},
     "output_type": "execute_result"
    }
   ],
   "source": [
    "# mostra a soma dos valores nulos em cada coluna\n",
    "df.isnull().sum() "
   ]
  },
  {
   "cell_type": "code",
   "execution_count": 22,
   "metadata": {
    "scrolled": false
   },
   "outputs": [
    {
     "data": {
      "text/plain": [
       "Cod                         200\n",
       "Sexo                          2\n",
       "Idade                        51\n",
       "Salario Anual (milhares)     64\n",
       "Score Gastos (0-100)         84\n",
       "dtype: int64"
      ]
     },
     "execution_count": 22,
     "metadata": {},
     "output_type": "execute_result"
    }
   ],
   "source": [
    "# quantidade de valores únicos\n",
    "df.nunique() "
   ]
  },
  {
   "cell_type": "code",
   "execution_count": 24,
   "metadata": {
    "scrolled": false
   },
   "outputs": [
    {
     "data": {
      "text/html": [
       "<div>\n",
       "<style scoped>\n",
       "    .dataframe tbody tr th:only-of-type {\n",
       "        vertical-align: middle;\n",
       "    }\n",
       "\n",
       "    .dataframe tbody tr th {\n",
       "        vertical-align: top;\n",
       "    }\n",
       "\n",
       "    .dataframe thead th {\n",
       "        text-align: right;\n",
       "    }\n",
       "</style>\n",
       "<table border=\"1\" class=\"dataframe\">\n",
       "  <thead>\n",
       "    <tr style=\"text-align: right;\">\n",
       "      <th></th>\n",
       "      <th>Cod</th>\n",
       "      <th>Idade</th>\n",
       "      <th>Salario Anual (milhares)</th>\n",
       "      <th>Score Gastos (0-100)</th>\n",
       "    </tr>\n",
       "    <tr>\n",
       "      <th>Sexo</th>\n",
       "      <th></th>\n",
       "      <th></th>\n",
       "      <th></th>\n",
       "      <th></th>\n",
       "    </tr>\n",
       "  </thead>\n",
       "  <tbody>\n",
       "    <tr>\n",
       "      <th>Feminino</th>\n",
       "      <td>112</td>\n",
       "      <td>112</td>\n",
       "      <td>112</td>\n",
       "      <td>112</td>\n",
       "    </tr>\n",
       "    <tr>\n",
       "      <th>Masculino</th>\n",
       "      <td>88</td>\n",
       "      <td>88</td>\n",
       "      <td>88</td>\n",
       "      <td>88</td>\n",
       "    </tr>\n",
       "  </tbody>\n",
       "</table>\n",
       "</div>"
      ],
      "text/plain": [
       "           Cod  Idade  Salario Anual (milhares)  Score Gastos (0-100)\n",
       "Sexo                                                                 \n",
       "Feminino   112    112                       112                   112\n",
       "Masculino   88     88                        88                    88"
      ]
     },
     "execution_count": 24,
     "metadata": {},
     "output_type": "execute_result"
    }
   ],
   "source": [
    "# quantos ddo sexo masculino e feminino tem\n",
    "df.groupby('Sexo').count() "
   ]
  },
  {
   "cell_type": "code",
   "execution_count": 25,
   "metadata": {
    "scrolled": false
   },
   "outputs": [
    {
     "data": {
      "text/plain": [
       "Cod                               200\n",
       "Sexo                        Masculino\n",
       "Idade                              70\n",
       "Salario Anual (milhares)          159\n",
       "Score Gastos (0-100)               99\n",
       "dtype: object"
      ]
     },
     "execution_count": 25,
     "metadata": {},
     "output_type": "execute_result"
    }
   ],
   "source": [
    "# valores máximos de cada coluna\n",
    "df.max(axis=0) # 0 eixo das colunas (y), 1 eixo das linhas (x)"
   ]
  },
  {
   "cell_type": "code",
   "execution_count": 42,
   "metadata": {},
   "outputs": [
    {
     "data": {
      "text/plain": [
       "Cod                          int64\n",
       "Sexo                        object\n",
       "Idade                        int64\n",
       "Salario Anual (milhares)     int64\n",
       "Score Gastos (0-100)         int64\n",
       "dtype: object"
      ]
     },
     "execution_count": 42,
     "metadata": {},
     "output_type": "execute_result"
    }
   ],
   "source": [
    "# mostra os tipos de dados do dataframe\n",
    "df.dtypes"
   ]
  },
  {
   "cell_type": "code",
   "execution_count": 27,
   "metadata": {
    "scrolled": true
   },
   "outputs": [
    {
     "data": {
      "text/plain": [
       "Cod                                1\n",
       "Sexo                        Feminino\n",
       "Idade                             18\n",
       "Salario Anual (milhares)          17\n",
       "Score Gastos (0-100)               1\n",
       "dtype: object"
      ]
     },
     "execution_count": 27,
     "metadata": {},
     "output_type": "execute_result"
    }
   ],
   "source": [
    "# valores mínimos de cada coluna\n",
    "df.min(axis=0)"
   ]
  },
  {
   "cell_type": "markdown",
   "metadata": {},
   "source": [
    "###  O dataframe possui:  ###\n",
    "\n",
    "* 200 elementos\n",
    "* 2 tipos de sexo\n",
    ">+ 112 Feminino\n",
    ">+ 88 Masculino\n",
    "* 64 variações de salarios anuais\n",
    ">+ 159 o maior salario (em milhares)\n",
    ">+ 17 o menor salario (em milhares)\n",
    "* 84 variações de Score Gastos\n",
    "* idade 18 a 70 anos"
   ]
  },
  {
   "cell_type": "markdown",
   "metadata": {
    "id": "AUPZgAAFU4Dv"
   },
   "source": [
    "**PLOTANDO O GRÁFICO DE RENDA X PONTUAÇÃO**"
   ]
  },
  {
   "cell_type": "code",
   "execution_count": 9,
   "metadata": {
    "id": "ai_Dp4A6Ua1C"
   },
   "outputs": [
    {
     "data": {
      "image/png": "[encoded data removed]",
      "text/plain": [
       "<Figure size 432x288 with 1 Axes>"
      ]
     },
     "metadata": {
      "needs_background": "light"
     },
     "output_type": "display_data"
    }
   ],
   "source": [
    "plt.scatter(x = 'Salario Anual (milhares)', y = 'Score Gastos (0-100)', data = df)\n",
    "plt.title('Renda Anual x Pontuação de Gastos')\n",
    "plt.show()"
   ]
  },
  {
   "cell_type": "markdown",
   "metadata": {
    "id": "J9CcobeNc1kl"
   },
   "source": [
    "**EXECUÇÃO DO KMEANS COM 2 CLUSTERS**"
   ]
  },
  {
   "cell_type": "code",
   "execution_count": 30,
   "metadata": {
    "id": "W1LXkVwxdu9r"
   },
   "outputs": [
    {
     "name": "stdout",
     "output_type": "stream",
     "text": [
      "[[43.24444444 50.28888889]\n",
      " [92.14545455 50.12727273]]\n"
     ]
    },
    {
     "data": {
      "image/png": "[encoded data removed]",
      "text/plain": [
       "<Figure size 432x288 with 1 Axes>"
      ]
     },
     "metadata": {
      "needs_background": "light"
     },
     "output_type": "display_data"
    }
   ],
   "source": [
    "X2 = df[['Salario Anual (milhares)', 'Score Gastos (0-100)']].iloc[:,:].values\n",
    "\n",
    "kmeans = KMeans(n_clusters=2, init='k-means++', max_iter=300, n_init=10)\n",
    "pred_y = kmeans.fit_predict(X2)\n",
    "print(kmeans.cluster_centers_) # mostra a coordenada dos centróides\n",
    "\n",
    "plt.scatter(X2[:,0], X2[:,1])\n",
    "plt.title('K-Means com 2 clusters')\n",
    "plt.grid()\n",
    "plt.scatter(kmeans.cluster_centers_[:,0], kmeans.cluster_centers_[:,1], s=90, c='red')\n",
    "plt.show() "
   ]
  },
  {
   "cell_type": "markdown",
   "metadata": {
    "id": "VB1u_Sq2eT4V"
   },
   "source": [
    "**EXECUÇÃO DO KMEANS COM 6 CLUSTERS**"
   ]
  },
  {
   "cell_type": "code",
   "execution_count": 58,
   "metadata": {
    "id": "VJUj-gSgeYrl",
    "scrolled": true
   },
   "outputs": [
    {
     "data": {
      "image/png": "[encoded data removed]",
      "text/plain": [
       "<Figure size 432x288 with 1 Axes>"
      ]
     },
     "metadata": {
      "needs_background": "light"
     },
     "output_type": "display_data"
    }
   ],
   "source": [
    "kmeans= KMeans(n_clusters=6, init='k-means++', max_iter=300, n_init=10)\n",
    "pred_y = kmeans.fit_predict(X2)\n",
    "\n",
    "plt.scatter(X2[:,0], X2[:,1])\n",
    "plt.title('K-Means com 6 clusters')\n",
    "plt.grid()\n",
    "\n",
    "plt.scatter(kmeans.cluster_centers_[:,0], kmeans.cluster_centers_[:,1], s=90, c='red')\n",
    "plt.show()"
   ]
  },
  {
   "cell_type": "code",
   "execution_count": 57,
   "metadata": {},
   "outputs": [
    {
     "name": "stdout",
     "output_type": "stream",
     "text": [
      "[[ 29.77272727  79.36363636]\n",
      " [102.11428571  17.11428571]\n",
      " [127.          82.        ]\n",
      " [ 30.43478261  20.91304348]\n",
      " [ 90.93103448  82.17241379]\n",
      " [ 64.09876543  49.51851852]]\n"
     ]
    }
   ],
   "source": [
    "# mostra a coordenada dos centróides\n",
    "print(kmeans.cluster_centers_) "
   ]
  },
  {
   "cell_type": "markdown",
   "metadata": {
    "id": "hmLOIbVQcVPu"
   },
   "source": [
    "### Curva do cotovelo \n",
    "\n",
    "A curva do cotovelo (elbow method), é um método para calcular o número ideal de clusters. É feito a soma dos quadrados intra-clusters (wcss -  within cluster sum of squares) sendo ideal o menor possivel, zero o melhor resultado. Para descobrir o cluster ideal é traçado uma reta que vai de uma extremidade a outra da curva, sendo o ponto ideal aquele que está mais distante da curvatura do gráfico. O K-Means também faz o cálculo do wcss, que se chama inertia_."
   ]
  },
  {
   "cell_type": "code",
   "execution_count": 12,
   "metadata": {
    "id": "8o7FnVIBcnWx"
   },
   "outputs": [
    {
     "data": {
      "image/png": "[encoded data removed]",
      "text/plain": [
       "<Figure size 432x288 with 1 Axes>"
      ]
     },
     "metadata": {
      "needs_background": "light"
     },
     "output_type": "display_data"
    }
   ],
   "source": [
    "wcss = [] # Within cluster sum of squares\n",
    "for i in range(1, 20):\n",
    "    kmeans = KMeans(n_clusters=i, init='k-means++', max_iter=300, n_init=10)\n",
    "    kmeans.fit(X2)\n",
    "    wcss.append(kmeans.inertia_)\n",
    "plt.plot(range(1, 20), wcss)\n",
    "plt.plot([1,19],[wcss[0], wcss[len(wcss)-1]])\n",
    "plt.title('Curva do cotovelo')\n",
    "plt.xlabel('Número de clusters')\n",
    "plt.ylabel('WCSS')\n",
    "plt.show()"
   ]
  },
  {
   "cell_type": "markdown",
   "metadata": {
    "id": "XZwpgO9xenr5"
   },
   "source": [
    "**EXECUÇÃO DO KMEANS COM O NÚMERO IDEAL DE CLUSTERS**"
   ]
  },
  {
   "cell_type": "code",
   "execution_count": 20,
   "metadata": {},
   "outputs": [
    {
     "name": "stdout",
     "output_type": "stream",
     "text": [
      "54185.05318347781\n"
     ]
    }
   ],
   "source": [
    "print(kmeans.inertia_)"
   ]
  },
  {
   "cell_type": "code",
   "execution_count": 60,
   "metadata": {
    "id": "SKb9BTTaefxY",
    "scrolled": true
   },
   "outputs": [
    {
     "data": {
      "image/png": "[encoded data removed]",
      "text/plain": [
       "<Figure size 432x288 with 1 Axes>"
      ]
     },
     "metadata": {
      "needs_background": "light"
     },
     "output_type": "display_data"
    }
   ],
   "source": [
    "kmeans= KMeans(n_clusters=5, init='k-means++', max_iter=300, n_init=10)\n",
    "pred_y = kmeans.fit_predict(X2)\n",
    "\n",
    "plt.scatter(X2[:,0], X2[:,1])\n",
    "plt.title('K-Means com 5 clusters')\n",
    "plt.grid()\n",
    "\n",
    "plt.scatter(kmeans.cluster_centers_[:,0], kmeans.cluster_centers_[:,1], s=90, c='red')\n",
    "plt.show()"
   ]
  },
  {
   "cell_type": "code",
   "execution_count": 49,
   "metadata": {},
   "outputs": [
    {
     "name": "stdout",
     "output_type": "stream",
     "text": [
      "[[ 64.09876543  49.51851852]\n",
      " [100.17948718  82.12820513]\n",
      " [102.11428571  17.11428571]\n",
      " [ 29.77272727  79.36363636]\n",
      " [ 30.43478261  20.91304348]]\n"
     ]
    }
   ],
   "source": [
    "# mostra a coordenada dos centróides\n",
    "print(kmeans.cluster_centers_) "
   ]
  }
 ],
 "metadata": {
  "colab": {
   "collapsed_sections": [],
   "name": "Apoio_TP.ipynb",
   "provenance": []
  },
  "kernelspec": {
   "display_name": "Python 3",
   "language": "python",
   "name": "python3"
  },
  "language_info": {
   "codemirror_mode": {
    "name": "ipython",
    "version": 3
   },
   "file_extension": ".py",
   "mimetype": "text/x-python",
   "name": "python",
   "nbconvert_exporter": "python",
   "pygments_lexer": "ipython3",
   "version": "3.8.5"
  }
 },
 "nbformat": 4,
 "nbformat_minor": 1
}
